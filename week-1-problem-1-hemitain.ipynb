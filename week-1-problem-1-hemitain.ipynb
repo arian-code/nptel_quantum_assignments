{
 "cells": [
  {
   "cell_type": "markdown",
   "id": "bf9651d3",
   "metadata": {},
   "source": [
    "# Which of the following matrices are Hermitian?"
   ]
  },
  {
   "cell_type": "code",
   "execution_count": 1,
   "id": "01b286b2",
   "metadata": {},
   "outputs": [],
   "source": [
    "import numpy as np"
   ]
  },
  {
   "cell_type": "code",
   "execution_count": 2,
   "id": "656990ab",
   "metadata": {},
   "outputs": [
    {
     "name": "stdout",
     "output_type": "stream",
     "text": [
      "[[ 0  1]\n",
      " [-1  0]]\n",
      "[[ 0 -1]\n",
      " [ 1  0]]\n",
      "It is not hermitian\n"
     ]
    }
   ],
   "source": [
    "#Option A\n",
    "p1=np.matrix([[0, 1],[-1, 0]])\n",
    "print (p1)\n",
    "print (p1.getH())\n",
    "if (p1==p1.getH()).all():\n",
    "    print (\"It is hermitian\")\n",
    "else:\n",
    "    print (\"It is not hermitian\")"
   ]
  },
  {
   "cell_type": "code",
   "execution_count": 3,
   "id": "9cba39d2",
   "metadata": {},
   "outputs": [
    {
     "name": "stdout",
     "output_type": "stream",
     "text": [
      "[[0.+0.j 0.+1.j]\n",
      " [0.-1.j 0.+0.j]]\n",
      "[[0.-0.j 0.+1.j]\n",
      " [0.-1.j 0.-0.j]]\n",
      "It is hermitian\n"
     ]
    }
   ],
   "source": [
    "#Option B\n",
    "p1=np.matrix([[0, 0+1j],[0-1j, 0]])\n",
    "print (p1)\n",
    "print (p1.getH())\n",
    "if (p1==p1.getH()).all():\n",
    "    print (\"It is hermitian\")\n",
    "else:\n",
    "    print (\"It is not hermitian\")"
   ]
  },
  {
   "cell_type": "code",
   "execution_count": 4,
   "id": "0c715927",
   "metadata": {},
   "outputs": [
    {
     "name": "stdout",
     "output_type": "stream",
     "text": [
      "[[1.+0.j 0.+0.j]\n",
      " [0.+0.j 0.-1.j]]\n",
      "[[1.-0.j 0.-0.j]\n",
      " [0.-0.j 0.+1.j]]\n",
      "It is not hermitian\n"
     ]
    }
   ],
   "source": [
    "#Option C\n",
    "p1=np.matrix([[1, 0],[0, 0-1j]])\n",
    "print (p1)\n",
    "print (p1.getH())\n",
    "if (p1==p1.getH()).all():\n",
    "    print (\"It is hermitian\")\n",
    "else:\n",
    "    print (\"It is not hermitian\")"
   ]
  },
  {
   "cell_type": "code",
   "execution_count": 5,
   "id": "4c4f2620",
   "metadata": {},
   "outputs": [
    {
     "name": "stdout",
     "output_type": "stream",
     "text": [
      "[[ 1.+0.j  0.+1.j]\n",
      " [ 0.-1.j -1.+0.j]]\n",
      "[[ 1.-0.j  0.+1.j]\n",
      " [ 0.-1.j -1.-0.j]]\n",
      "It is hermitian\n"
     ]
    }
   ],
   "source": [
    "#Option D\n",
    "p1=np.matrix([[1, 0+1j],[0-1j, -1]])\n",
    "print (p1)\n",
    "print (p1.getH())\n",
    "if (p1==p1.getH()).all():\n",
    "    print (\"It is hermitian\")\n",
    "else:\n",
    "    print (\"It is not hermitian\")"
   ]
  }
 ],
 "metadata": {
  "kernelspec": {
   "display_name": "Python 3",
   "language": "python",
   "name": "python3"
  },
  "language_info": {
   "codemirror_mode": {
    "name": "ipython",
    "version": 3
   },
   "file_extension": ".py",
   "mimetype": "text/x-python",
   "name": "python",
   "nbconvert_exporter": "python",
   "pygments_lexer": "ipython3",
   "version": "3.8.5"
  }
 },
 "nbformat": 4,
 "nbformat_minor": 5
}
