{
 "cells": [
  {
   "cell_type": "code",
   "execution_count": 27,
   "id": "8eb17a1f",
   "metadata": {},
   "outputs": [],
   "source": [
    "from sympy import *\n",
    "import numpy as np\n",
    "from sympy.physics.quantum import TensorProduct\n",
    "from sympy import Matrix, I\n",
    "from sympy.physics.quantum.dagger import Dagger\n",
    "init_printing(use_unicode=True)"
   ]
  },
  {
   "cell_type": "code",
   "execution_count": 24,
   "id": "09d28164",
   "metadata": {},
   "outputs": [
    {
     "data": {
      "image/png": "[encoded data removed]",
      "text/latex": [
       "$\\displaystyle \\left[\\begin{matrix}\\frac{\\sqrt{2}}{2} & \\frac{\\sqrt{2}}{2}\\\\\\frac{\\sqrt{2}}{2} & - \\frac{\\sqrt{2}}{2}\\end{matrix}\\right]$"
      ],
      "text/plain": [
       "⎡√2   √2 ⎤\n",
       "⎢──   ── ⎥\n",
       "⎢2    2  ⎥\n",
       "⎢        ⎥\n",
       "⎢√2  -√2 ⎥\n",
       "⎢──  ────⎥\n",
       "⎣2    2  ⎦"
      ]
     },
     "execution_count": 24,
     "metadata": {},
     "output_type": "execute_result"
    }
   ],
   "source": [
    "H=Matrix([[1/sqrt(2), 1/sqrt(2)],[1/sqrt(2), -1/sqrt(2)]])\n",
    "lhs=H\n",
    "lhs"
   ]
  },
  {
   "cell_type": "code",
   "execution_count": 31,
   "id": "ce041e2a",
   "metadata": {},
   "outputs": [
    {
     "data": {
      "image/png": "[encoded data removed]",
      "text/latex": [
       "$\\displaystyle \\left( \\left[\\begin{matrix}1\\\\0\\end{matrix}\\right], \\  \\left[\\begin{matrix}1 & 0\\end{matrix}\\right], \\  \\left[\\begin{matrix}0\\\\1\\end{matrix}\\right], \\  \\left[\\begin{matrix}0 & 1\\end{matrix}\\right], \\  \\left[\\begin{matrix}\\frac{\\sqrt{2}}{2}\\\\\\frac{\\sqrt{2}}{2}\\end{matrix}\\right], \\  \\left[\\begin{matrix}\\frac{\\sqrt{2}}{2}\\\\- \\frac{\\sqrt{2}}{2}\\end{matrix}\\right], \\  \\left[\\begin{matrix}\\frac{\\sqrt{2}}{2} & \\frac{\\sqrt{2}}{2}\\end{matrix}\\right], \\  \\left[\\begin{matrix}\\frac{\\sqrt{2}}{2} & - \\frac{\\sqrt{2}}{2}\\end{matrix}\\right]\\right)$"
      ],
      "text/plain": [
       "⎛                          ⎡√2⎤  ⎡ √2 ⎤                      ⎞\n",
       "⎜                          ⎢──⎥  ⎢ ── ⎥                      ⎟\n",
       "⎜⎡1⎤          ⎡0⎤          ⎢2 ⎥  ⎢ 2  ⎥  ⎡√2  √2⎤  ⎡√2  -√2 ⎤⎟\n",
       "⎜⎢ ⎥, [1  0], ⎢ ⎥, [0  1], ⎢  ⎥, ⎢    ⎥, ⎢──  ──⎥, ⎢──  ────⎥⎟\n",
       "⎜⎣0⎦          ⎣1⎦          ⎢√2⎥  ⎢-√2 ⎥  ⎣2   2 ⎦  ⎣2    2  ⎦⎟\n",
       "⎜                          ⎢──⎥  ⎢────⎥                      ⎟\n",
       "⎝                          ⎣2 ⎦  ⎣ 2  ⎦                      ⎠"
      ]
     },
     "execution_count": 31,
     "metadata": {},
     "output_type": "execute_result"
    }
   ],
   "source": [
    "bra_0=Matrix([[1],[0]])\n",
    "ket_0=Dagger(bra_0)\n",
    "bra_1=Matrix([[0],[1]])\n",
    "ket_1=Dagger(bra_1)\n",
    "bra_plus=(1/sqrt(2))*Matrix([[1],[1]])\n",
    "ket_plus=Dagger(bra_plus)\n",
    "bra_minus=(1/sqrt(2))*Matrix([[1],[-1]])\n",
    "ket_minus=Dagger(bra_minus)\n",
    "bra_0, ket_0, bra_1, ket_1, bra_plus, bra_minus, ket_plus, ket_minus"
   ]
  },
  {
   "cell_type": "code",
   "execution_count": 17,
   "id": "b4d8a8ea",
   "metadata": {},
   "outputs": [
    {
     "data": {
      "image/png": "[encoded data removed]",
      "text/latex": [
       "$\\displaystyle \\left[\\begin{matrix}0 & \\frac{\\sqrt{2}}{2}\\\\0 & \\frac{\\sqrt{2}}{2}\\end{matrix}\\right]$"
      ],
      "text/plain": [
       "⎡   √2⎤\n",
       "⎢0  ──⎥\n",
       "⎢   2 ⎥\n",
       "⎢     ⎥\n",
       "⎢   √2⎥\n",
       "⎢0  ──⎥\n",
       "⎣   2 ⎦"
      ]
     },
     "execution_count": 17,
     "metadata": {},
     "output_type": "execute_result"
    }
   ],
   "source": [
    "#Test\n",
    "1/sqrt(2)*(TensorProduct(bra_0, ket_0)+TensorProduct(bra_1, ket_1))"
   ]
  },
  {
   "cell_type": "code",
   "execution_count": 20,
   "id": "4c5aa5da",
   "metadata": {},
   "outputs": [
    {
     "name": "stdout",
     "output_type": "stream",
     "text": [
      "Matrix([[sqrt(2)/2, sqrt(2)/2], [sqrt(2)/2, -sqrt(2)/2]])\n",
      "Matrix([[0, sqrt(2)/2], [0, sqrt(2)/2]])\n",
      "It is false\n"
     ]
    }
   ],
   "source": [
    "#option A\n",
    "rhs=1/sqrt(2)*(TensorProduct(bra_0, ket_0)+TensorProduct(bra_1, ket_1))\n",
    "print (lhs)\n",
    "print (rhs)\n",
    "if (lhs==rhs):\n",
    "    print (\"It is true\")\n",
    "else:\n",
    "    print (\"It is false\")"
   ]
  },
  {
   "cell_type": "code",
   "execution_count": 33,
   "id": "500f9038",
   "metadata": {},
   "outputs": [
    {
     "name": "stdout",
     "output_type": "stream",
     "text": [
      "Matrix([[sqrt(2)/2, sqrt(2)/2], [sqrt(2)/2, -sqrt(2)/2]])\n",
      "Matrix([[sqrt(2)/2, sqrt(2)/2], [sqrt(2)/2, -sqrt(2)/2]])\n",
      "It is true\n"
     ]
    }
   ],
   "source": [
    "#option B\n",
    "rhs=(TensorProduct(bra_0, ket_plus)+TensorProduct(bra_1, ket_minus))\n",
    "print (lhs)\n",
    "print (rhs)\n",
    "if (lhs==rhs):\n",
    "    print (\"It is true\")\n",
    "else:\n",
    "    print (\"It is false\")"
   ]
  },
  {
   "cell_type": "code",
   "execution_count": 35,
   "id": "bb8ecd25",
   "metadata": {},
   "outputs": [
    {
     "name": "stdout",
     "output_type": "stream",
     "text": [
      "Matrix([[sqrt(2)/2, sqrt(2)/2], [sqrt(2)/2, -sqrt(2)/2]])\n",
      "Matrix([[sqrt(2)/2, sqrt(2)/2], [sqrt(2)/2, -sqrt(2)/2]])\n",
      "It is true\n"
     ]
    }
   ],
   "source": [
    "#option C\n",
    "rhs=1/sqrt(2)*(TensorProduct(bra_0, ket_0)+\n",
    "               TensorProduct(bra_0, ket_1)+\n",
    "               TensorProduct(bra_1, ket_0)-\n",
    "               TensorProduct(bra_1, ket_1))\n",
    "                \n",
    "print (lhs)\n",
    "print (rhs)\n",
    "if (lhs==rhs):\n",
    "    print (\"It is true\")\n",
    "else:\n",
    "    print (\"It is false\")"
   ]
  },
  {
   "cell_type": "code",
   "execution_count": 36,
   "id": "842c6340",
   "metadata": {},
   "outputs": [
    {
     "name": "stdout",
     "output_type": "stream",
     "text": [
      "Matrix([[sqrt(2)/2, sqrt(2)/2], [sqrt(2)/2, -sqrt(2)/2]])\n",
      "Matrix([[1/2, 1/2], [1/2, -1/2]])\n",
      "It is false\n"
     ]
    }
   ],
   "source": [
    "#option C\n",
    "rhs=1/sqrt(2)*(TensorProduct(bra_plus, ket_0)+\n",
    "               TensorProduct(bra_minus, ket_1))\n",
    "                \n",
    "print (lhs)\n",
    "print (rhs)\n",
    "if (lhs==rhs):\n",
    "    print (\"It is true\")\n",
    "else:\n",
    "    print (\"It is false\")"
   ]
  }
 ],
 "metadata": {
  "kernelspec": {
   "display_name": "Python 3",
   "language": "python",
   "name": "python3"
  },
  "language_info": {
   "codemirror_mode": {
    "name": "ipython",
    "version": 3
   },
   "file_extension": ".py",
   "mimetype": "text/x-python",
   "name": "python",
   "nbconvert_exporter": "python",
   "pygments_lexer": "ipython3",
   "version": "3.8.5"
  }
 },
 "nbformat": 4,
 "nbformat_minor": 5
}
