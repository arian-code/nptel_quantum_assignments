{
 "cells": [
  {
   "cell_type": "code",
   "execution_count": 2,
   "id": "e930bf96",
   "metadata": {},
   "outputs": [],
   "source": [
    "from sympy import *\n",
    "from sympy.physics.quantum.state import Ket, Bra\n",
    "from sympy.physics.quantum import TensorProduct\n",
    "import numpy as np\n",
    "init_printing(use_unicode=True)"
   ]
  },
  {
   "cell_type": "code",
   "execution_count": 3,
   "id": "a28d8b2b",
   "metadata": {},
   "outputs": [
    {
     "data": {
      "image/png": "[encoded data removed]",
      "text/latex": [
       "$\\displaystyle \\left( \\left[\\begin{matrix}\\frac{\\sqrt{2}}{2}\\\\\\frac{\\sqrt{2}}{2}\\end{matrix}\\right], \\  \\left[\\begin{matrix}1\\\\0\\end{matrix}\\right], \\  \\left[\\begin{matrix}\\frac{\\sqrt{2}}{2}\\\\- \\frac{\\sqrt{2}}{2}\\end{matrix}\\right]\\right)$"
      ],
      "text/plain": [
       "⎛⎡√2⎤       ⎡ √2 ⎤⎞\n",
       "⎜⎢──⎥       ⎢ ── ⎥⎟\n",
       "⎜⎢2 ⎥  ⎡1⎤  ⎢ 2  ⎥⎟\n",
       "⎜⎢  ⎥, ⎢ ⎥, ⎢    ⎥⎟\n",
       "⎜⎢√2⎥  ⎣0⎦  ⎢-√2 ⎥⎟\n",
       "⎜⎢──⎥       ⎢────⎥⎟\n",
       "⎝⎣2 ⎦       ⎣ 2  ⎦⎠"
      ]
     },
     "execution_count": 3,
     "metadata": {},
     "output_type": "execute_result"
    }
   ],
   "source": [
    "plus=Matrix([1/sqrt(2), 1/sqrt(2)])\n",
    "zero=Matrix([1, 0])\n",
    "minus=Matrix([1/sqrt(2), -1/sqrt(2)])\n",
    "\n",
    "plus, zero, minus"
   ]
  },
  {
   "cell_type": "code",
   "execution_count": 4,
   "id": "04893bfc",
   "metadata": {},
   "outputs": [
    {
     "data": {
      "image/png": "[encoded data removed]",
      "text/latex": [
       "$\\displaystyle \\left[\\begin{matrix}\\frac{1}{2}\\\\- \\frac{1}{2}\\\\0\\\\0\\\\\\frac{1}{2}\\\\- \\frac{1}{2}\\\\0\\\\0\\end{matrix}\\right]$"
      ],
      "text/plain": [
       "⎡1/2 ⎤\n",
       "⎢    ⎥\n",
       "⎢-1/2⎥\n",
       "⎢    ⎥\n",
       "⎢ 0  ⎥\n",
       "⎢    ⎥\n",
       "⎢ 0  ⎥\n",
       "⎢    ⎥\n",
       "⎢1/2 ⎥\n",
       "⎢    ⎥\n",
       "⎢-1/2⎥\n",
       "⎢    ⎥\n",
       "⎢ 0  ⎥\n",
       "⎢    ⎥\n",
       "⎣ 0  ⎦"
      ]
     },
     "execution_count": 4,
     "metadata": {},
     "output_type": "execute_result"
    }
   ],
   "source": [
    "TensorProduct(plus, zero, minus)"
   ]
  }
 ],
 "metadata": {
  "kernelspec": {
   "display_name": "Python 3",
   "language": "python",
   "name": "python3"
  },
  "language_info": {
   "codemirror_mode": {
    "name": "ipython",
    "version": 3
   },
   "file_extension": ".py",
   "mimetype": "text/x-python",
   "name": "python",
   "nbconvert_exporter": "python",
   "pygments_lexer": "ipython3",
   "version": "3.8.5"
  }
 },
 "nbformat": 4,
 "nbformat_minor": 5
}
