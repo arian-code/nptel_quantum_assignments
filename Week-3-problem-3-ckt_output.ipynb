{
 "cells": [
  {
   "cell_type": "code",
   "execution_count": 39,
   "id": "1d6024c6",
   "metadata": {},
   "outputs": [],
   "source": [
    "import numpy as np\n",
    "\n",
    "# Import Qiskit\n",
    "from qiskit import QuantumCircuit\n",
    "from qiskit import Aer, transpile\n",
    "from qiskit.tools.visualization import plot_histogram, plot_state_city\n",
    "from qiskit import *\n",
    "from qiskit.tools.monitor import job_monitor\n",
    "\n",
    "import qiskit.quantum_info as qi"
   ]
  },
  {
   "cell_type": "code",
   "execution_count": 40,
   "id": "5e31d937",
   "metadata": {},
   "outputs": [],
   "source": [
    "Aer.backends()\n",
    "simulator = Aer.get_backend('aer_simulator')\n"
   ]
  },
  {
   "cell_type": "code",
   "execution_count": 44,
   "id": "1513043c",
   "metadata": {},
   "outputs": [
    {
     "data": {
      "text/html": [
       "<pre style=\"word-wrap: normal;white-space: pre;background: #fff0;line-height: 1.1;font-family: &quot;Courier New&quot;,Courier,monospace\">           ░ ┌───┐     ┌───┐      ░ ┌─┐      \n",
       "q_0: ──────░─┤ H ├──■──┤ H ├──────░─┤M├──────\n",
       "           ░ ├───┤  │  ├───┤      ░ └╥┘┌─┐   \n",
       "q_1: ──────░─┤ H ├──┼──┤ H ├──────░──╫─┤M├───\n",
       "           ░ ├───┤  │  └───┘┌───┐ ░  ║ └╥┘┌─┐\n",
       "q_2: ──────░─┤ H ├──┼────■──┤ H ├─░──╫──╫─┤M├\n",
       "     ┌───┐ ░ ├───┤┌─┴─┐┌─┴─┐└───┘ ░  ║  ║ └╥┘\n",
       "q_3: ┤ X ├─░─┤ H ├┤ X ├┤ X ├──────░──╫──╫──╫─\n",
       "     └───┘ ░ └───┘└───┘└───┘      ░  ║  ║  ║ \n",
       "c: 3/════════════════════════════════╩══╩══╩═\n",
       "                                     0  1  2 </pre>"
      ],
      "text/plain": [
       "           ░ ┌───┐     ┌───┐      ░ ┌─┐      \n",
       "q_0: ──────░─┤ H ├──■──┤ H ├──────░─┤M├──────\n",
       "           ░ ├───┤  │  ├───┤      ░ └╥┘┌─┐   \n",
       "q_1: ──────░─┤ H ├──┼──┤ H ├──────░──╫─┤M├───\n",
       "           ░ ├───┤  │  └───┘┌───┐ ░  ║ └╥┘┌─┐\n",
       "q_2: ──────░─┤ H ├──┼────■──┤ H ├─░──╫──╫─┤M├\n",
       "     ┌───┐ ░ ├───┤┌─┴─┐┌─┴─┐└───┘ ░  ║  ║ └╥┘\n",
       "q_3: ┤ X ├─░─┤ H ├┤ X ├┤ X ├──────░──╫──╫──╫─\n",
       "     └───┘ ░ └───┘└───┘└───┘      ░  ║  ║  ║ \n",
       "c: 3/════════════════════════════════╩══╩══╩═\n",
       "                                     0  1  2 "
      ]
     },
     "execution_count": 44,
     "metadata": {},
     "output_type": "execute_result"
    }
   ],
   "source": [
    "# Set initial state to generated statevector\n",
    "circ = QuantumCircuit(4, 3)\n",
    "circ.x(3)\n",
    "circ.barrier()\n",
    "circ.h(0)\n",
    "circ.h(1)\n",
    "circ.h(2)\n",
    "circ.h(3)\n",
    "circ.cx(0,3)\n",
    "circ.cx(2,3)\n",
    "circ.h(0)\n",
    "circ.h(1)\n",
    "circ.h(2)\n",
    "circ.barrier()\n",
    "circ.measure([0,1,2], [0,1,2])\n",
    "circ.draw()"
   ]
  },
  {
   "cell_type": "code",
   "execution_count": 46,
   "id": "7e2c6d0e",
   "metadata": {},
   "outputs": [
    {
     "name": "stdout",
     "output_type": "stream",
     "text": [
      "{'101': 1000}\n"
     ]
    }
   ],
   "source": [
    "# execute the quantum circuit\n",
    "backend = BasicAer.get_backend('qasm_simulator') # the device to run on\n",
    "result = backend.run(transpile(circ, backend), shots=1000).result()\n",
    "counts  = result.get_counts(circ)\n",
    "print(counts)"
   ]
  },
  {
   "cell_type": "code",
   "execution_count": 47,
   "id": "1d80c4d3",
   "metadata": {},
   "outputs": [
    {
     "data": {
      "image/png": "[encoded data removed]",
      "text/plain": [
       "<Figure size 504x360 with 1 Axes>"
      ]
     },
     "execution_count": 47,
     "metadata": {},
     "output_type": "execute_result"
    }
   ],
   "source": [
    "plot_histogram(counts)"
   ]
  }
 ],
 "metadata": {
  "kernelspec": {
   "display_name": "Python 3",
   "language": "python",
   "name": "python3"
  },
  "language_info": {
   "codemirror_mode": {
    "name": "ipython",
    "version": 3
   },
   "file_extension": ".py",
   "mimetype": "text/x-python",
   "name": "python",
   "nbconvert_exporter": "python",
   "pygments_lexer": "ipython3",
   "version": "3.8.5"
  }
 },
 "nbformat": 4,
 "nbformat_minor": 5
}
