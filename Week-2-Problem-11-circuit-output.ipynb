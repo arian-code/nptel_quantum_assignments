{
 "cells": [
  {
   "cell_type": "code",
   "execution_count": 17,
   "id": "8eb17a1f",
   "metadata": {},
   "outputs": [],
   "source": [
    "from sympy import *\n",
    "from sympy.physics.quantum.state import Ket, Bra\n",
    "from sympy.physics.quantum import TensorProduct\n",
    "import numpy as np\n",
    "init_printing(use_unicode=True)"
   ]
  },
  {
   "cell_type": "code",
   "execution_count": 18,
   "id": "41b2710c",
   "metadata": {},
   "outputs": [
    {
     "data": {
      "image/png": "[encoded data removed]",
      "text/latex": [
       "$\\displaystyle \\left( \\left[\\begin{matrix}\\frac{\\sqrt{2}}{2} & \\frac{\\sqrt{2}}{2}\\\\\\frac{\\sqrt{2}}{2} & - \\frac{\\sqrt{2}}{2}\\end{matrix}\\right], \\  \\left[\\begin{matrix}1 & 0\\\\0 & i\\end{matrix}\\right], \\  \\left[\\begin{matrix}0 & 1\\\\1 & 0\\end{matrix}\\right], \\  \\left[\\begin{matrix}0 & - i\\\\i & 0\\end{matrix}\\right], \\  \\left[\\begin{matrix}1 & 0\\\\0 & -1\\end{matrix}\\right], \\  \\left[\\begin{matrix}1 & 0\\\\0 & 1\\end{matrix}\\right]\\right)$"
      ],
      "text/plain": [
       "⎛⎡√2   √2 ⎤                                          ⎞\n",
       "⎜⎢──   ── ⎥                                          ⎟\n",
       "⎜⎢2    2  ⎥  ⎡1  0⎤  ⎡0  1⎤  ⎡0  -ⅈ⎤  ⎡1  0 ⎤  ⎡1  0⎤⎟\n",
       "⎜⎢        ⎥, ⎢    ⎥, ⎢    ⎥, ⎢     ⎥, ⎢     ⎥, ⎢    ⎥⎟\n",
       "⎜⎢√2  -√2 ⎥  ⎣0  ⅈ⎦  ⎣1  0⎦  ⎣ⅈ  0 ⎦  ⎣0  -1⎦  ⎣0  1⎦⎟\n",
       "⎜⎢──  ────⎥                                          ⎟\n",
       "⎝⎣2    2  ⎦                                          ⎠"
      ]
     },
     "execution_count": 18,
     "metadata": {},
     "output_type": "execute_result"
    }
   ],
   "source": [
    "#One Q bit gates\n",
    "H=Matrix([[1/sqrt(2), 1/sqrt(2)],[1/sqrt(2), -1/sqrt(2)]])\n",
    "S=Matrix([[1, 0],[0, I]])\n",
    "X=Matrix([[0, 1],[1, 0]])\n",
    "Y=Matrix([[0, -I],[I, 0]])\n",
    "Z=Matrix([[1, 0],[0, -1]])\n",
    "Identity=Matrix([[1, 0],[0, 1]])\n",
    "H, S, X, Y, Z, Identity"
   ]
  },
  {
   "cell_type": "code",
   "execution_count": 19,
   "id": "0d3d8bdc",
   "metadata": {},
   "outputs": [
    {
     "data": {
      "image/png": "[encoded data removed]",
      "text/latex": [
       "$\\displaystyle \\left( \\left[\\begin{matrix}1 & 0 & 0 & 0\\\\0 & 1 & 0 & 0\\\\0 & 0 & 0 & 1\\\\0 & 0 & 1 & 0\\end{matrix}\\right], \\  \\left[\\begin{matrix}\\frac{\\sqrt{2}}{2} & 0 & \\frac{\\sqrt{2}}{2} & 0\\\\0 & \\frac{\\sqrt{2}}{2} & 0 & \\frac{\\sqrt{2}}{2}\\\\\\frac{\\sqrt{2}}{2} & 0 & - \\frac{\\sqrt{2}}{2} & 0\\\\0 & \\frac{\\sqrt{2}}{2} & 0 & - \\frac{\\sqrt{2}}{2}\\end{matrix}\\right]\\right)$"
      ],
      "text/plain": [
       "⎛              ⎡√2       √2       ⎤⎞\n",
       "⎜              ⎢──  0    ──    0  ⎥⎟\n",
       "⎜              ⎢2        2        ⎥⎟\n",
       "⎜              ⎢                  ⎥⎟\n",
       "⎜⎡1  0  0  0⎤  ⎢    √2         √2 ⎥⎟\n",
       "⎜⎢          ⎥  ⎢0   ──   0     ── ⎥⎟\n",
       "⎜⎢0  1  0  0⎥  ⎢    2          2  ⎥⎟\n",
       "⎜⎢          ⎥, ⎢                  ⎥⎟\n",
       "⎜⎢0  0  0  1⎥  ⎢√2      -√2       ⎥⎟\n",
       "⎜⎢          ⎥  ⎢──  0   ────   0  ⎥⎟\n",
       "⎜⎣0  0  1  0⎦  ⎢2        2        ⎥⎟\n",
       "⎜              ⎢                  ⎥⎟\n",
       "⎜              ⎢    √2        -√2 ⎥⎟\n",
       "⎜              ⎢0   ──   0    ────⎥⎟\n",
       "⎝              ⎣    2          2  ⎦⎠"
      ]
     },
     "execution_count": 19,
     "metadata": {},
     "output_type": "execute_result"
    }
   ],
   "source": [
    "#Two Q  bit gates\n",
    "CNOT=Matrix([[1, 0, 0, 0], [0, 1, 0, 0], [0, 0, 0, 1], [0, 0, 1, 0]])\n",
    "CNOT\n",
    "HI=TensorProduct(H, Identity)    #Example only\n",
    "CNOT, HI"
   ]
  },
  {
   "cell_type": "code",
   "execution_count": 20,
   "id": "a8f15226",
   "metadata": {},
   "outputs": [
    {
     "data": {
      "image/png": "[encoded data removed]",
      "text/latex": [
       "$\\displaystyle \\left[\\begin{matrix}\\frac{\\sqrt{2}}{2} & 0 & \\frac{\\sqrt{2}}{2} & 0\\\\0 & \\frac{\\sqrt{2}}{2} & 0 & \\frac{\\sqrt{2}}{2}\\\\0 & \\frac{\\sqrt{2} i}{2} & 0 & - \\frac{\\sqrt{2} i}{2}\\\\\\frac{\\sqrt{2} i}{2} & 0 & - \\frac{\\sqrt{2} i}{2} & 0\\end{matrix}\\right]$"
      ],
      "text/plain": [
       "⎡ √2           √2          ⎤\n",
       "⎢ ──    0      ──      0   ⎥\n",
       "⎢ 2            2           ⎥\n",
       "⎢                          ⎥\n",
       "⎢       √2             √2  ⎥\n",
       "⎢ 0     ──     0       ──  ⎥\n",
       "⎢       2              2   ⎥\n",
       "⎢                          ⎥\n",
       "⎢      √2⋅ⅈ          -√2⋅ⅈ ⎥\n",
       "⎢ 0    ────    0     ──────⎥\n",
       "⎢       2              2   ⎥\n",
       "⎢                          ⎥\n",
       "⎢√2⋅ⅈ        -√2⋅ⅈ         ⎥\n",
       "⎢────   0    ──────    0   ⎥\n",
       "⎣ 2            2           ⎦"
      ]
     },
     "execution_count": 20,
     "metadata": {},
     "output_type": "execute_result"
    }
   ],
   "source": [
    "circuit=CNOT*TensorProduct(S, Identity)*TensorProduct(H, Identity)\n",
    "circuit"
   ]
  },
  {
   "cell_type": "code",
   "execution_count": 21,
   "id": "965f443d",
   "metadata": {},
   "outputs": [
    {
     "data": {
      "image/png": "[encoded data removed]",
      "text/latex": [
       "$\\displaystyle \\left[\\begin{matrix}0\\\\0\\\\0\\\\1\\end{matrix}\\right]$"
      ],
      "text/plain": [
       "⎡0⎤\n",
       "⎢ ⎥\n",
       "⎢0⎥\n",
       "⎢ ⎥\n",
       "⎢0⎥\n",
       "⎢ ⎥\n",
       "⎣1⎦"
      ]
     },
     "execution_count": 21,
     "metadata": {},
     "output_type": "execute_result"
    }
   ],
   "source": [
    "in_1=Matrix([[0],[0],[0],[1]])\n",
    "in_1"
   ]
  },
  {
   "cell_type": "code",
   "execution_count": 22,
   "id": "894934a2",
   "metadata": {},
   "outputs": [
    {
     "data": {
      "image/png": "[encoded data removed]",
      "text/latex": [
       "$\\displaystyle \\left[\\begin{matrix}0\\\\\\frac{\\sqrt{2}}{2}\\\\- \\frac{\\sqrt{2} i}{2}\\\\0\\end{matrix}\\right]$"
      ],
      "text/plain": [
       "⎡  0   ⎤\n",
       "⎢      ⎥\n",
       "⎢  √2  ⎥\n",
       "⎢  ──  ⎥\n",
       "⎢  2   ⎥\n",
       "⎢      ⎥\n",
       "⎢-√2⋅ⅈ ⎥\n",
       "⎢──────⎥\n",
       "⎢  2   ⎥\n",
       "⎢      ⎥\n",
       "⎣  0   ⎦"
      ]
     },
     "execution_count": 22,
     "metadata": {},
     "output_type": "execute_result"
    }
   ],
   "source": [
    "lhs=circuit*in_1\n",
    "lhs"
   ]
  },
  {
   "cell_type": "code",
   "execution_count": 23,
   "id": "e6d5518f",
   "metadata": {},
   "outputs": [
    {
     "name": "stdout",
     "output_type": "stream",
     "text": [
      "Matrix([[0], [sqrt(2)/2], [-sqrt(2)*I/2], [0]])\n",
      "Matrix([[0], [sqrt(2)/2], [sqrt(2)/2], [0]])\n",
      "It is false\n"
     ]
    }
   ],
   "source": [
    "#option A\n",
    "rhs=Matrix([[0],[1/sqrt(2)],[1/sqrt(2)],[0]])\n",
    "print (lhs)\n",
    "print (rhs)\n",
    "if (lhs==rhs):\n",
    "    print (\"It is true\")\n",
    "else:\n",
    "    print (\"It is false\")"
   ]
  },
  {
   "cell_type": "code",
   "execution_count": 24,
   "id": "4e643cd7",
   "metadata": {},
   "outputs": [
    {
     "name": "stdout",
     "output_type": "stream",
     "text": [
      "Matrix([[0], [sqrt(2)/2], [-sqrt(2)*I/2], [0]])\n",
      "Matrix([[0], [sqrt(2)/2], [-sqrt(2)*I/2], [0]])\n",
      "It is true\n"
     ]
    }
   ],
   "source": [
    "#option B\n",
    "rhs=Matrix([[0],[1/sqrt(2)],[-I/sqrt(2)],[0]])\n",
    "print (lhs)\n",
    "print (rhs)\n",
    "if (lhs==rhs):\n",
    "    print (\"It is true\")\n",
    "else:\n",
    "    print (\"It is false\")"
   ]
  },
  {
   "cell_type": "code",
   "execution_count": 25,
   "id": "399db69b",
   "metadata": {},
   "outputs": [
    {
     "name": "stdout",
     "output_type": "stream",
     "text": [
      "Matrix([[0], [sqrt(2)/2], [-sqrt(2)*I/2], [0]])\n",
      "Matrix([[0], [sqrt(2)/2], [-sqrt(2)/2], [0]])\n",
      "It is false\n"
     ]
    }
   ],
   "source": [
    "#option C\n",
    "rhs=Matrix([[0],[1/sqrt(2)],[-1/sqrt(2)],[0]])\n",
    "print (lhs)\n",
    "print (rhs)\n",
    "if (lhs==rhs):\n",
    "    print (\"It is true\")\n",
    "else:\n",
    "    print (\"It is false\")"
   ]
  },
  {
   "cell_type": "code",
   "execution_count": 26,
   "id": "d98ba3c4",
   "metadata": {},
   "outputs": [
    {
     "name": "stdout",
     "output_type": "stream",
     "text": [
      "Matrix([[0], [sqrt(2)/2], [-sqrt(2)*I/2], [0]])\n",
      "Matrix([[sqrt(2)/2], [0], [0], [sqrt(2)/2]])\n",
      "It is false\n"
     ]
    }
   ],
   "source": [
    "#option D\n",
    "rhs=Matrix([[1/sqrt(2)],[0],[0],[1/sqrt(2)]])\n",
    "print (lhs)\n",
    "print (rhs)\n",
    "if (lhs==rhs):\n",
    "    print (\"It is true\")\n",
    "else:\n",
    "    print (\"It is false\")"
   ]
  }
 ],
 "metadata": {
  "kernelspec": {
   "display_name": "Python 3",
   "language": "python",
   "name": "python3"
  },
  "language_info": {
   "codemirror_mode": {
    "name": "ipython",
    "version": 3
   },
   "file_extension": ".py",
   "mimetype": "text/x-python",
   "name": "python",
   "nbconvert_exporter": "python",
   "pygments_lexer": "ipython3",
   "version": "3.8.5"
  }
 },
 "nbformat": 4,
 "nbformat_minor": 5
}
