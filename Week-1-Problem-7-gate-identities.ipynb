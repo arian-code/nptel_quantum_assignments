{
 "cells": [
  {
   "cell_type": "code",
   "execution_count": 2,
   "id": "8eb17a1f",
   "metadata": {},
   "outputs": [],
   "source": [
    "from sympy import *\n",
    "import numpy as np\n",
    "init_printing(use_unicode=True)"
   ]
  },
  {
   "cell_type": "code",
   "execution_count": 3,
   "id": "09d28164",
   "metadata": {},
   "outputs": [
    {
     "data": {
      "image/png": "[encoded data removed]",
      "text/latex": [
       "$\\displaystyle \\left( \\alpha, \\  \\beta, \\  \\theta, \\  \\phi\\right)$"
      ],
      "text/plain": [
       "(α, β, θ, φ)"
      ]
     },
     "execution_count": 3,
     "metadata": {},
     "output_type": "execute_result"
    }
   ],
   "source": [
    "a, b, d, f = symbols('alpha beta theta phi')\n",
    "a, b, d, f"
   ]
  },
  {
   "cell_type": "code",
   "execution_count": 4,
   "id": "0d3d8bdc",
   "metadata": {},
   "outputs": [
    {
     "data": {
      "image/png": "[encoded data removed]",
      "text/latex": [
       "$\\displaystyle \\left( \\left[\\begin{matrix}\\frac{\\sqrt{2}}{2} & \\frac{\\sqrt{2}}{2}\\\\\\frac{\\sqrt{2}}{2} & - \\frac{\\sqrt{2}}{2}\\end{matrix}\\right], \\  \\left[\\begin{matrix}0 & 1\\\\1 & i\\end{matrix}\\right], \\  \\left[\\begin{matrix}0 & 1\\\\1 & 0\\end{matrix}\\right], \\  \\left[\\begin{matrix}0 & - i\\\\i & 0\\end{matrix}\\right], \\  \\left[\\begin{matrix}1 & 0\\\\0 & -1\\end{matrix}\\right]\\right)$"
      ],
      "text/plain": [
       "⎛⎡√2   √2 ⎤                                  ⎞\n",
       "⎜⎢──   ── ⎥                                  ⎟\n",
       "⎜⎢2    2  ⎥  ⎡0  1⎤  ⎡0  1⎤  ⎡0  -ⅈ⎤  ⎡1  0 ⎤⎟\n",
       "⎜⎢        ⎥, ⎢    ⎥, ⎢    ⎥, ⎢     ⎥, ⎢     ⎥⎟\n",
       "⎜⎢√2  -√2 ⎥  ⎣1  ⅈ⎦  ⎣1  0⎦  ⎣ⅈ  0 ⎦  ⎣0  -1⎦⎟\n",
       "⎜⎢──  ────⎥                                  ⎟\n",
       "⎝⎣2    2  ⎦                                  ⎠"
      ]
     },
     "execution_count": 4,
     "metadata": {},
     "output_type": "execute_result"
    }
   ],
   "source": [
    "p1=exp(I*f)\n",
    "H=Matrix([[1/sqrt(2), 1/sqrt(2)],[1/sqrt(2), -1/sqrt(2)]])\n",
    "S=Matrix([[0, 1],[1, I]])\n",
    "X=Matrix([[0, 1],[1, 0]])\n",
    "Y=Matrix([[0, -I],[I, 0]])\n",
    "Z=Matrix([[1, 0],[0, -1]])\n",
    "H, S, X, Y, Z"
   ]
  },
  {
   "cell_type": "code",
   "execution_count": 9,
   "id": "9b8a79f0",
   "metadata": {},
   "outputs": [
    {
     "name": "stdout",
     "output_type": "stream",
     "text": [
      "Matrix([[1, 0], [0, -1]])\n",
      "Matrix([[-1, 0], [0, 1]])\n",
      "It is false\n"
     ]
    }
   ],
   "source": [
    "#option A\n",
    "lhs=H*X*H\n",
    "rhs=-1*Z\n",
    "print (lhs)\n",
    "print (rhs)\n",
    "if (lhs==rhs):\n",
    "    print (\"It is true\")\n",
    "else:\n",
    "    print (\"It is false\")"
   ]
  },
  {
   "cell_type": "code",
   "execution_count": 10,
   "id": "2699342d",
   "metadata": {},
   "outputs": [
    {
     "name": "stdout",
     "output_type": "stream",
     "text": [
      "Matrix([[0, I], [-I, 0]])\n",
      "Matrix([[0, I], [-I, 0]])\n",
      "It is true\n"
     ]
    }
   ],
   "source": [
    "#option B\n",
    "lhs=H*Y*H\n",
    "rhs=-1*Y\n",
    "print (lhs)\n",
    "print (rhs)\n",
    "if (lhs==rhs):\n",
    "    print (\"It is true\")\n",
    "else:\n",
    "    print (\"It is false\")"
   ]
  },
  {
   "cell_type": "code",
   "execution_count": 11,
   "id": "86ab6042",
   "metadata": {},
   "outputs": [
    {
     "name": "stdout",
     "output_type": "stream",
     "text": [
      "Matrix([[sqrt(2)/2, sqrt(2)/2], [sqrt(2)/2, -sqrt(2)/2]])\n",
      "Matrix([[sqrt(2)/2, sqrt(2)/2], [sqrt(2)/2, -sqrt(2)/2]])\n",
      "It is true\n"
     ]
    }
   ],
   "source": [
    "#option C\n",
    "lhs=H\n",
    "rhs=1/sqrt(2)*(X+Z)\n",
    "print (lhs)\n",
    "print (rhs)\n",
    "if (lhs==rhs):\n",
    "    print (\"It is true\")\n",
    "else:\n",
    "    print (\"It is false\")"
   ]
  },
  {
   "cell_type": "code",
   "execution_count": 12,
   "id": "b50ac929",
   "metadata": {},
   "outputs": [
    {
     "name": "stdout",
     "output_type": "stream",
     "text": [
      "Matrix([[0, 1], [1, 0]])\n",
      "Matrix([[0, 1], [1, 0]])\n",
      "It is true\n"
     ]
    }
   ],
   "source": [
    "#option D\n",
    "lhs=H*Z*H\n",
    "rhs=X\n",
    "print (lhs)\n",
    "print (rhs)\n",
    "if (lhs==rhs):\n",
    "    print (\"It is true\")\n",
    "else:\n",
    "    print (\"It is false\")"
   ]
  }
 ],
 "metadata": {
  "kernelspec": {
   "display_name": "Python 3",
   "language": "python",
   "name": "python3"
  },
  "language_info": {
   "codemirror_mode": {
    "name": "ipython",
    "version": 3
   },
   "file_extension": ".py",
   "mimetype": "text/x-python",
   "name": "python",
   "nbconvert_exporter": "python",
   "pygments_lexer": "ipython3",
   "version": "3.8.5"
  }
 },
 "nbformat": 4,
 "nbformat_minor": 5
}
