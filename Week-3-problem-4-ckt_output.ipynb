{
 "cells": [
  {
   "cell_type": "code",
   "execution_count": 1,
   "id": "36dff168",
   "metadata": {},
   "outputs": [],
   "source": [
    "import numpy as np\n",
    "\n",
    "# Import Qiskit\n",
    "from qiskit import QuantumCircuit\n",
    "from qiskit import Aer, transpile\n",
    "from qiskit.tools.visualization import plot_histogram, plot_state_city\n",
    "from qiskit import *\n",
    "from qiskit.tools.monitor import job_monitor\n",
    "\n",
    "import qiskit.quantum_info as qi"
   ]
  },
  {
   "cell_type": "code",
   "execution_count": 2,
   "id": "076118b5",
   "metadata": {},
   "outputs": [],
   "source": [
    "Aer.backends()\n",
    "simulator = Aer.get_backend('aer_simulator')\n"
   ]
  },
  {
   "cell_type": "code",
   "execution_count": 3,
   "id": "1734c5dc",
   "metadata": {},
   "outputs": [
    {
     "data": {
      "text/html": [
       "<pre style=\"word-wrap: normal;white-space: pre;background: #fff0;line-height: 1.1;font-family: &quot;Courier New&quot;,Courier,monospace\">           ░ ┌───┐ ░ ┌───┐ ░ ┌───┐ ░ ┌─┐               \n",
       "q_0: ──────░─┤ H ├─░─┤ X ├─░─┤ H ├─░─┤M├───────────────\n",
       "           ░ ├───┤ ░ └───┘ ░ ├───┤ ░ └╥┘┌─┐            \n",
       "q_1: ──────░─┤ H ├─░───────░─┤ H ├─░──╫─┤M├────────────\n",
       "           ░ ├───┤ ░ ┌───┐ ░ ├───┤ ░  ║ └╥┘┌─┐         \n",
       "q_2: ──────░─┤ H ├─░─┤ X ├─░─┤ H ├─░──╫──╫─┤M├─────────\n",
       "           ░ ├───┤ ░ ├───┤ ░ ├───┤ ░  ║  ║ └╥┘┌─┐      \n",
       "q_3: ──────░─┤ H ├─░─┤ X ├─░─┤ H ├─░──╫──╫──╫─┤M├──────\n",
       "           ░ ├───┤ ░ └───┘ ░ ├───┤ ░  ║  ║  ║ └╥┘┌─┐   \n",
       "q_4: ──────░─┤ H ├─░───────░─┤ H ├─░──╫──╫──╫──╫─┤M├───\n",
       "           ░ ├───┤ ░       ░ ├───┤ ░  ║  ║  ║  ║ └╥┘┌─┐\n",
       "q_5: ──────░─┤ H ├─░───────░─┤ H ├─░──╫──╫──╫──╫──╫─┤M├\n",
       "     ┌───┐ ░ ├───┤ ░       ░ ├───┤ ░  ║  ║  ║  ║  ║ └╥┘\n",
       "q_6: ┤ X ├─░─┤ H ├─░───────░─┤ H ├─░──╫──╫──╫──╫──╫──╫─\n",
       "     └───┘ ░ └───┘ ░       ░ └───┘ ░  ║  ║  ║  ║  ║  ║ \n",
       "c: 6/═════════════════════════════════╩══╩══╩══╩══╩══╩═\n",
       "                                      0  1  2  3  4  5 </pre>"
      ],
      "text/plain": [
       "           ░ ┌───┐ ░ ┌───┐ ░ ┌───┐ ░ ┌─┐               \n",
       "q_0: ──────░─┤ H ├─░─┤ X ├─░─┤ H ├─░─┤M├───────────────\n",
       "           ░ ├───┤ ░ └───┘ ░ ├───┤ ░ └╥┘┌─┐            \n",
       "q_1: ──────░─┤ H ├─░───────░─┤ H ├─░──╫─┤M├────────────\n",
       "           ░ ├───┤ ░ ┌───┐ ░ ├───┤ ░  ║ └╥┘┌─┐         \n",
       "q_2: ──────░─┤ H ├─░─┤ X ├─░─┤ H ├─░──╫──╫─┤M├─────────\n",
       "           ░ ├───┤ ░ ├───┤ ░ ├───┤ ░  ║  ║ └╥┘┌─┐      \n",
       "q_3: ──────░─┤ H ├─░─┤ X ├─░─┤ H ├─░──╫──╫──╫─┤M├──────\n",
       "           ░ ├───┤ ░ └───┘ ░ ├───┤ ░  ║  ║  ║ └╥┘┌─┐   \n",
       "q_4: ──────░─┤ H ├─░───────░─┤ H ├─░──╫──╫──╫──╫─┤M├───\n",
       "           ░ ├───┤ ░       ░ ├───┤ ░  ║  ║  ║  ║ └╥┘┌─┐\n",
       "q_5: ──────░─┤ H ├─░───────░─┤ H ├─░──╫──╫──╫──╫──╫─┤M├\n",
       "     ┌───┐ ░ ├───┤ ░       ░ ├───┤ ░  ║  ║  ║  ║  ║ └╥┘\n",
       "q_6: ┤ X ├─░─┤ H ├─░───────░─┤ H ├─░──╫──╫──╫──╫──╫──╫─\n",
       "     └───┘ ░ └───┘ ░       ░ └───┘ ░  ║  ║  ║  ║  ║  ║ \n",
       "c: 6/═════════════════════════════════╩══╩══╩══╩══╩══╩═\n",
       "                                      0  1  2  3  4  5 "
      ]
     },
     "execution_count": 3,
     "metadata": {},
     "output_type": "execute_result"
    }
   ],
   "source": [
    "# Set initial state to generated statevector\n",
    "circ = QuantumCircuit(7, 6)\n",
    "circ.x(6)\n",
    "circ.barrier()\n",
    "circ.h(0)\n",
    "circ.h(1)\n",
    "circ.h(2)\n",
    "circ.h(3)\n",
    "circ.h(4)\n",
    "circ.h(5)\n",
    "circ.h(6)\n",
    "circ.barrier()\n",
    "circ.x(0)\n",
    "circ.x(2)\n",
    "circ.x(3)\n",
    "circ.barrier()\n",
    "circ.h(0)\n",
    "circ.h(1)\n",
    "circ.h(2)\n",
    "circ.h(3)\n",
    "circ.h(4)\n",
    "circ.h(5)\n",
    "circ.h(6)\n",
    "circ.barrier()\n",
    "circ.measure(range(6), range(6))\n",
    "circ.draw()"
   ]
  },
  {
   "cell_type": "code",
   "execution_count": 4,
   "id": "1a343365",
   "metadata": {},
   "outputs": [
    {
     "name": "stdout",
     "output_type": "stream",
     "text": [
      "{'000000': 1000}\n"
     ]
    }
   ],
   "source": [
    "# execute the quantum circuit\n",
    "backend = BasicAer.get_backend('qasm_simulator') # the device to run on\n",
    "result = backend.run(transpile(circ, backend), shots=1000).result()\n",
    "counts  = result.get_counts(circ)\n",
    "print(counts)"
   ]
  },
  {
   "cell_type": "code",
   "execution_count": 5,
   "id": "1ae9b2a3",
   "metadata": {},
   "outputs": [
    {
     "data": {
      "image/png": "[encoded data removed]",
      "text/plain": [
       "<Figure size 504x360 with 1 Axes>"
      ]
     },
     "execution_count": 5,
     "metadata": {},
     "output_type": "execute_result"
    }
   ],
   "source": [
    "plot_histogram(counts)"
   ]
  }
 ],
 "metadata": {
  "kernelspec": {
   "display_name": "Python 3",
   "language": "python",
   "name": "python3"
  },
  "language_info": {
   "codemirror_mode": {
    "name": "ipython",
    "version": 3
   },
   "file_extension": ".py",
   "mimetype": "text/x-python",
   "name": "python",
   "nbconvert_exporter": "python",
   "pygments_lexer": "ipython3",
   "version": "3.8.5"
  }
 },
 "nbformat": 4,
 "nbformat_minor": 5
}
