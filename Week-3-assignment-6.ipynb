{
 "cells": [
  {
   "cell_type": "markdown",
   "id": "a489aecf",
   "metadata": {},
   "source": [
    "# Grover's search\n",
    "Author : Dhiraj Madan, Advisory Research Engineer, IBM Research India"
   ]
  },
  {
   "cell_type": "markdown",
   "id": "244be6d7",
   "metadata": {},
   "source": [
    " We will learn to implement Grover's search algorithm in this notebook. First lets import all the required libraries"
   ]
  },
  {
   "cell_type": "code",
   "execution_count": 44,
   "id": "6aaf22b6",
   "metadata": {},
   "outputs": [
    {
     "name": "stderr",
     "output_type": "stream",
     "text": [
      "ibmqfactory.load_account:WARNING:2021-09-14 21:22:56,005: Credentials are already in use. The existing account in the session will be replaced.\n"
     ]
    }
   ],
   "source": [
    "import numpy as np\n",
    "# Importing standard Qiskit libraries\n",
    "from qiskit import QuantumCircuit, transpile, Aer, IBMQ\n",
    "from qiskit.tools.jupyter import *\n",
    "from qiskit.visualization import *\n",
    "#from ibm_quantum_widgets import *\n",
    "\n",
    "# Loading your IBM Q account(s)\n",
    "provider = IBMQ.load_account()"
   ]
  },
  {
   "cell_type": "code",
   "execution_count": 45,
   "id": "2de40381",
   "metadata": {},
   "outputs": [],
   "source": [
    "from qiskit import assemble\n",
    "import numpy as np\n",
    "import matplotlib.pyplot as plt"
   ]
  },
  {
   "cell_type": "markdown",
   "id": "14f79e46",
   "metadata": {},
   "source": [
    "We will work with 4 qubit data registers. Here we will search for an element amongs 0 to 2^4 -1 =15\n",
    "We will create an ancilla qubit to store |->. This will be needed to provide a phase."
   ]
  },
  {
   "cell_type": "code",
   "execution_count": 46,
   "id": "230683df",
   "metadata": {},
   "outputs": [],
   "source": [
    "n=4\n",
    "grover_ckt = QuantumCircuit(n+1, n)\n",
    "marked = [1,0,1,1] # 1101 element is marked (lsb to msb)=>13"
   ]
  },
  {
   "cell_type": "markdown",
   "id": "fc7db479",
   "metadata": {},
   "source": [
    "Here is our oracle function. For a given n (number of data qubits), an integer marked (the index of marked element) and a circuit,\n",
    "it applies the following oracle $U_{marked}|x>|y> =|x>|y \\oplus f(x)>$. \n",
    "\n",
    "Here f(x) = 1 if  x is the marked index and 0 otherwise.\n"
   ]
  },
  {
   "cell_type": "code",
   "execution_count": 47,
   "id": "206a12e9",
   "metadata": {},
   "outputs": [],
   "source": [
    "def apply_oracle(n,marked,ckt):\n",
    "    control0 = [i for i in range(n) if not marked[i]]\n",
    "    ckt.x(control0)\n",
    "    ckt.mct(list(range(n)),n)\n",
    "    ckt.x(control0)\n",
    "    ckt.draw()    "
   ]
  },
  {
   "cell_type": "markdown",
   "id": "c96241ef",
   "metadata": {},
   "source": [
    "# Exercise 1\n",
    "You need to complete the function in the cell below to reflect about the unform superposition state. \n",
    " This should take a circuit object, and an integer n : The number of data qubits \n",
    " (excluding the ancilla qubit to store |-> state). The goal is to add operations to refect about the\n",
    " superposed state.\n",
    "As a step you need to be able to reflect about 0's. You will find the function mct helpful \n",
    "https://qiskit.org/documentation/stubs/qiskit.circuit.library.MCMT.html"
   ]
  },
  {
   "cell_type": "code",
   "execution_count": 48,
   "id": "27c11ca8",
   "metadata": {},
   "outputs": [],
   "source": [
    "#option A\n",
    "def reflect_uniform(ckt,n):\n",
    "    ckt.h(list(range(n)))\n",
    "    ckt.x(list(range(n)))\n",
    "    ckt.mct(list(range(n)),n)\n",
    "    ckt.x(list(range(n)))\n",
    "    ckt.h(list(range(n)))\n",
    "    ckt.x(n)"
   ]
  },
  {
   "cell_type": "code",
   "execution_count": 49,
   "id": "881b3d2c",
   "metadata": {},
   "outputs": [
    {
     "data": {
      "text/html": [
       "<pre style=\"word-wrap: normal;white-space: pre;background: #fff0;line-height: 1.1;font-family: &quot;Courier New&quot;,Courier,monospace\">     ┌───┐┌───┐     ┌───┐┌───┐\n",
       "q_0: ┤ H ├┤ X ├──■──┤ X ├┤ H ├\n",
       "     ├───┤├───┤  │  ├───┤├───┤\n",
       "q_1: ┤ H ├┤ X ├──■──┤ X ├┤ H ├\n",
       "     ├───┤├───┤  │  ├───┤├───┤\n",
       "q_2: ┤ H ├┤ X ├──■──┤ X ├┤ H ├\n",
       "     ├───┤├───┤  │  ├───┤├───┤\n",
       "q_3: ┤ H ├┤ X ├──■──┤ X ├┤ H ├\n",
       "     └───┘└───┘┌─┴─┐├───┤└───┘\n",
       "q_4: ──────────┤ X ├┤ X ├─────\n",
       "               └───┘└───┘     </pre>"
      ],
      "text/plain": [
       "     ┌───┐┌───┐     ┌───┐┌───┐\n",
       "q_0: ┤ H ├┤ X ├──■──┤ X ├┤ H ├\n",
       "     ├───┤├───┤  │  ├───┤├───┤\n",
       "q_1: ┤ H ├┤ X ├──■──┤ X ├┤ H ├\n",
       "     ├───┤├───┤  │  ├───┤├───┤\n",
       "q_2: ┤ H ├┤ X ├──■──┤ X ├┤ H ├\n",
       "     ├───┤├───┤  │  ├───┤├───┤\n",
       "q_3: ┤ H ├┤ X ├──■──┤ X ├┤ H ├\n",
       "     └───┘└───┘┌─┴─┐├───┤└───┘\n",
       "q_4: ──────────┤ X ├┤ X ├─────\n",
       "               └───┘└───┘     "
      ]
     },
     "execution_count": 49,
     "metadata": {},
     "output_type": "execute_result"
    }
   ],
   "source": [
    "#Test option A\n",
    "qc=QuantumCircuit(5)\n",
    "reflect_uniform(qc,4)\n",
    "qc.draw()"
   ]
  }
 ],
 "metadata": {
  "kernelspec": {
   "display_name": "Python 3",
   "language": "python",
   "name": "python3"
  },
  "language_info": {
   "codemirror_mode": {
    "name": "ipython",
    "version": 3
   },
   "file_extension": ".py",
   "mimetype": "text/x-python",
   "name": "python",
   "nbconvert_exporter": "python",
   "pygments_lexer": "ipython3",
   "version": "3.8.5"
  }
 },
 "nbformat": 4,
 "nbformat_minor": 5
}
