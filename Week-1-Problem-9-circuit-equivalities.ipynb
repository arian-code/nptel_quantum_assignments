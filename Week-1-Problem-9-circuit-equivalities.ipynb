{
 "cells": [
  {
   "cell_type": "code",
   "execution_count": 30,
   "id": "8eb17a1f",
   "metadata": {},
   "outputs": [],
   "source": [
    "from sympy import *\n",
    "from sympy.physics.quantum.state import Ket, Bra\n",
    "from sympy.physics.quantum import TensorProduct\n",
    "import numpy as np\n",
    "init_printing(use_unicode=True)"
   ]
  },
  {
   "cell_type": "code",
   "execution_count": 31,
   "id": "8c4b0b37",
   "metadata": {},
   "outputs": [
    {
     "data": {
      "image/png": "[encoded data removed]",
      "text/latex": [
       "$\\displaystyle \\left( \\left[\\begin{matrix}\\frac{\\sqrt{2}}{2} & \\frac{\\sqrt{2}}{2}\\\\\\frac{\\sqrt{2}}{2} & - \\frac{\\sqrt{2}}{2}\\end{matrix}\\right], \\  \\left[\\begin{matrix}0 & 1\\\\1 & i\\end{matrix}\\right], \\  \\left[\\begin{matrix}0 & 1\\\\1 & 0\\end{matrix}\\right], \\  \\left[\\begin{matrix}0 & - i\\\\i & 0\\end{matrix}\\right], \\  \\left[\\begin{matrix}1 & 0\\\\0 & -1\\end{matrix}\\right], \\  \\left[\\begin{matrix}1 & 0\\\\0 & 1\\end{matrix}\\right]\\right)$"
      ],
      "text/plain": [
       "⎛⎡√2   √2 ⎤                                          ⎞\n",
       "⎜⎢──   ── ⎥                                          ⎟\n",
       "⎜⎢2    2  ⎥  ⎡0  1⎤  ⎡0  1⎤  ⎡0  -ⅈ⎤  ⎡1  0 ⎤  ⎡1  0⎤⎟\n",
       "⎜⎢        ⎥, ⎢    ⎥, ⎢    ⎥, ⎢     ⎥, ⎢     ⎥, ⎢    ⎥⎟\n",
       "⎜⎢√2  -√2 ⎥  ⎣1  ⅈ⎦  ⎣1  0⎦  ⎣ⅈ  0 ⎦  ⎣0  -1⎦  ⎣0  1⎦⎟\n",
       "⎜⎢──  ────⎥                                          ⎟\n",
       "⎝⎣2    2  ⎦                                          ⎠"
      ]
     },
     "execution_count": 31,
     "metadata": {},
     "output_type": "execute_result"
    }
   ],
   "source": [
    "#One Q bit gates\n",
    "H=Matrix([[1/sqrt(2), 1/sqrt(2)],[1/sqrt(2), -1/sqrt(2)]])\n",
    "S=Matrix([[0, 1],[1, I]])\n",
    "X=Matrix([[0, 1],[1, 0]])\n",
    "Y=Matrix([[0, -I],[I, 0]])\n",
    "Z=Matrix([[1, 0],[0, -1]])\n",
    "Identity=Matrix([[1, 0],[0, 1]])\n",
    "H, S, X, Y, Z, Identity"
   ]
  },
  {
   "cell_type": "code",
   "execution_count": 32,
   "id": "0d3d8bdc",
   "metadata": {},
   "outputs": [
    {
     "data": {
      "image/png": "[encoded data removed]",
      "text/latex": [
       "$\\displaystyle \\left( \\left[\\begin{matrix}1 & 0 & 0 & 0\\\\0 & 1 & 0 & 0\\\\0 & 0 & 0 & 1\\\\0 & 0 & 1 & 0\\end{matrix}\\right], \\  \\left[\\begin{matrix}\\frac{\\sqrt{2}}{2} & 0 & \\frac{\\sqrt{2}}{2} & 0\\\\0 & \\frac{\\sqrt{2}}{2} & 0 & \\frac{\\sqrt{2}}{2}\\\\\\frac{\\sqrt{2}}{2} & 0 & - \\frac{\\sqrt{2}}{2} & 0\\\\0 & \\frac{\\sqrt{2}}{2} & 0 & - \\frac{\\sqrt{2}}{2}\\end{matrix}\\right]\\right)$"
      ],
      "text/plain": [
       "⎛              ⎡√2       √2       ⎤⎞\n",
       "⎜              ⎢──  0    ──    0  ⎥⎟\n",
       "⎜              ⎢2        2        ⎥⎟\n",
       "⎜              ⎢                  ⎥⎟\n",
       "⎜⎡1  0  0  0⎤  ⎢    √2         √2 ⎥⎟\n",
       "⎜⎢          ⎥  ⎢0   ──   0     ── ⎥⎟\n",
       "⎜⎢0  1  0  0⎥  ⎢    2          2  ⎥⎟\n",
       "⎜⎢          ⎥, ⎢                  ⎥⎟\n",
       "⎜⎢0  0  0  1⎥  ⎢√2      -√2       ⎥⎟\n",
       "⎜⎢          ⎥  ⎢──  0   ────   0  ⎥⎟\n",
       "⎜⎣0  0  1  0⎦  ⎢2        2        ⎥⎟\n",
       "⎜              ⎢                  ⎥⎟\n",
       "⎜              ⎢    √2        -√2 ⎥⎟\n",
       "⎜              ⎢0   ──   0    ────⎥⎟\n",
       "⎝              ⎣    2          2  ⎦⎠"
      ]
     },
     "execution_count": 32,
     "metadata": {},
     "output_type": "execute_result"
    }
   ],
   "source": [
    "#Two Q  bit gates\n",
    "CNOT=Matrix([[1, 0, 0, 0], [0, 1, 0, 0], [0, 0, 0, 1], [0, 0, 1, 0]])\n",
    "CNOT\n",
    "HI=TensorProduct(H, Identity)    #Example only\n",
    "CNOT, HI"
   ]
  },
  {
   "cell_type": "code",
   "execution_count": 33,
   "id": "e6d5518f",
   "metadata": {},
   "outputs": [
    {
     "name": "stdout",
     "output_type": "stream",
     "text": [
      "Matrix([[0, 0, 0, -I], [0, 0, -I, 0], [0, I, 0, 0], [I, 0, 0, 0]])\n",
      "Matrix([[0, 0, 0, -1], [0, 0, 1, 0], [0, 1, 0, 0], [-1, 0, 0, 0]])\n",
      "It is false\n"
     ]
    }
   ],
   "source": [
    "#option A\n",
    "lhs=CNOT*TensorProduct(Y, Identity)*CNOT\n",
    "rhs=TensorProduct(Y, Y)\n",
    "print (lhs)\n",
    "print (rhs)\n",
    "if (lhs==rhs):\n",
    "    print (\"It is true\")\n",
    "else:\n",
    "    print (\"It is false\")"
   ]
  },
  {
   "cell_type": "code",
   "execution_count": 34,
   "id": "40eec05e",
   "metadata": {},
   "outputs": [
    {
     "name": "stdout",
     "output_type": "stream",
     "text": [
      "Matrix([[0, 0, 0, -I], [0, 0, -I, 0], [0, I, 0, 0], [I, 0, 0, 0]])\n",
      "Matrix([[0, 0, 0, -I], [0, 0, -I, 0], [0, I, 0, 0], [I, 0, 0, 0]])\n",
      "It is true\n"
     ]
    }
   ],
   "source": [
    "#option B\n",
    "lhs=CNOT*TensorProduct(Y, Identity)*CNOT\n",
    "rhs=TensorProduct(Y, X)\n",
    "print (lhs)\n",
    "print (rhs)\n",
    "if (lhs==rhs):\n",
    "    print (\"It is true\")\n",
    "else:\n",
    "    print (\"It is false\")\n"
   ]
  },
  {
   "cell_type": "code",
   "execution_count": 35,
   "id": "514b3be5",
   "metadata": {},
   "outputs": [
    {
     "name": "stdout",
     "output_type": "stream",
     "text": [
      "Matrix([[0, -I, 0, 0], [I, 0, 0, 0], [0, 0, 0, I], [0, 0, -I, 0]])\n",
      "Matrix([[0, 0, 0, -1], [0, 0, 1, 0], [0, 1, 0, 0], [-1, 0, 0, 0]])\n",
      "It is false\n"
     ]
    }
   ],
   "source": [
    "#option C\n",
    "lhs=CNOT*TensorProduct(Identity, Y)*CNOT\n",
    "rhs=TensorProduct(Y, Y)\n",
    "print (lhs)\n",
    "print (rhs)\n",
    "if (lhs==rhs):\n",
    "    print (\"It is true\")\n",
    "else:\n",
    "    print (\"It is false\")"
   ]
  },
  {
   "cell_type": "code",
   "execution_count": 36,
   "id": "6831ec65",
   "metadata": {},
   "outputs": [
    {
     "name": "stdout",
     "output_type": "stream",
     "text": [
      "Matrix([[0, -I, 0, 0], [I, 0, 0, 0], [0, 0, 0, I], [0, 0, -I, 0]])\n",
      "Matrix([[0, -I, 0, 0], [I, 0, 0, 0], [0, 0, 0, I], [0, 0, -I, 0]])\n",
      "It is true\n"
     ]
    }
   ],
   "source": [
    "#option D\n",
    "lhs=CNOT*TensorProduct(Identity, Y)*CNOT\n",
    "rhs=TensorProduct(Z, Y)\n",
    "print (lhs)\n",
    "print (rhs)\n",
    "if (lhs==rhs):\n",
    "    print (\"It is true\")\n",
    "else:\n",
    "    print (\"It is false\")"
   ]
  }
 ],
 "metadata": {
  "kernelspec": {
   "display_name": "Python 3",
   "language": "python",
   "name": "python3"
  },
  "language_info": {
   "codemirror_mode": {
    "name": "ipython",
    "version": 3
   },
   "file_extension": ".py",
   "mimetype": "text/x-python",
   "name": "python",
   "nbconvert_exporter": "python",
   "pygments_lexer": "ipython3",
   "version": "3.8.5"
  }
 },
 "nbformat": 4,
 "nbformat_minor": 5
}
