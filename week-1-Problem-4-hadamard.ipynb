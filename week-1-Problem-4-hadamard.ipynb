{
 "cells": [
  {
   "cell_type": "code",
   "execution_count": 1,
   "id": "8eb17a1f",
   "metadata": {},
   "outputs": [],
   "source": [
    "from sympy import *\n",
    "import numpy as np\n",
    "init_printing(use_unicode=True)"
   ]
  },
  {
   "cell_type": "code",
   "execution_count": 2,
   "id": "09d28164",
   "metadata": {},
   "outputs": [
    {
     "data": {
      "image/png": "[encoded data removed]",
      "text/latex": [
       "$\\displaystyle \\left( \\alpha, \\  \\beta, \\  \\theta, \\  \\phi\\right)$"
      ],
      "text/plain": [
       "(α, β, θ, φ)"
      ]
     },
     "execution_count": 2,
     "metadata": {},
     "output_type": "execute_result"
    }
   ],
   "source": [
    "a, b, d, f = symbols('alpha beta theta phi')\n",
    "a, b, d, f"
   ]
  },
  {
   "cell_type": "code",
   "execution_count": 3,
   "id": "0d3d8bdc",
   "metadata": {},
   "outputs": [
    {
     "data": {
      "image/png": "[encoded data removed]",
      "text/latex": [
       "$\\displaystyle \\left( e^{i \\phi}, \\  \\left[\\begin{matrix}e^{- \\frac{i \\alpha}{2}} & 0\\\\0 & e^{\\frac{i \\alpha}{2}}\\end{matrix}\\right], \\  \\left[\\begin{matrix}\\cos{\\left(\\frac{\\theta}{2} \\right)} & - i \\sin{\\left(\\frac{\\theta}{2} \\right)}\\\\- i \\sin{\\left(\\frac{\\theta}{2} \\right)} & \\cos{\\left(\\frac{\\theta}{2} \\right)}\\end{matrix}\\right], \\  \\left[\\begin{matrix}e^{- \\frac{i \\beta}{2}} & 0\\\\0 & e^{\\frac{i \\beta}{2}}\\end{matrix}\\right]\\right)$"
      ],
      "text/plain": [
       "⎛      ⎡ -ⅈ⋅α       ⎤                          ⎡ -ⅈ⋅β       ⎤⎞\n",
       "⎜      ⎢ ─────      ⎥  ⎡    ⎛θ⎞          ⎛θ⎞⎤  ⎢ ─────      ⎥⎟\n",
       "⎜      ⎢   2        ⎥  ⎢ cos⎜─⎟    -ⅈ⋅sin⎜─⎟⎥  ⎢   2        ⎥⎟\n",
       "⎜ ⅈ⋅φ  ⎢ℯ        0  ⎥  ⎢    ⎝2⎠          ⎝2⎠⎥  ⎢ℯ        0  ⎥⎟\n",
       "⎜ℯ   , ⎢            ⎥, ⎢                    ⎥, ⎢            ⎥⎟\n",
       "⎜      ⎢         ⅈ⋅α⎥  ⎢      ⎛θ⎞      ⎛θ⎞  ⎥  ⎢         ⅈ⋅β⎥⎟\n",
       "⎜      ⎢         ───⎥  ⎢-ⅈ⋅sin⎜─⎟   cos⎜─⎟  ⎥  ⎢         ───⎥⎟\n",
       "⎜      ⎢          2 ⎥  ⎣      ⎝2⎠      ⎝2⎠  ⎦  ⎢          2 ⎥⎟\n",
       "⎝      ⎣  0     ℯ   ⎦                          ⎣  0     ℯ   ⎦⎠"
      ]
     },
     "execution_count": 3,
     "metadata": {},
     "output_type": "execute_result"
    }
   ],
   "source": [
    "p1=exp(I*f)\n",
    "p2=Matrix([[exp(-I*a/2), 0],[0, exp(I*a/2)]])\n",
    "p3=Matrix([[cos (d/2), -I*sin (d/2)],[-I*sin (d/2), cos (d/2)]])\n",
    "p4=Matrix([[exp(-I*b/2), 0],[0, exp(I*b/2)]])\n",
    "p1, p2, p3, p4"
   ]
  },
  {
   "cell_type": "code",
   "execution_count": 4,
   "id": "c1d14a46",
   "metadata": {},
   "outputs": [
    {
     "data": {
      "image/png": "[encoded data removed]",
      "text/latex": [
       "$\\displaystyle \\left[\\begin{matrix}e^{- \\frac{i \\alpha}{2}} e^{- \\frac{i \\beta}{2}} e^{i \\phi} \\cos{\\left(\\frac{\\theta}{2} \\right)} & - i e^{- \\frac{i \\alpha}{2}} e^{\\frac{i \\beta}{2}} e^{i \\phi} \\sin{\\left(\\frac{\\theta}{2} \\right)}\\\\- i e^{\\frac{i \\alpha}{2}} e^{- \\frac{i \\beta}{2}} e^{i \\phi} \\sin{\\left(\\frac{\\theta}{2} \\right)} & e^{\\frac{i \\alpha}{2}} e^{\\frac{i \\beta}{2}} e^{i \\phi} \\cos{\\left(\\frac{\\theta}{2} \\right)}\\end{matrix}\\right]$"
      ],
      "text/plain": [
       "⎡ -ⅈ⋅α   -ⅈ⋅β                    -ⅈ⋅α   ⅈ⋅β            ⎤\n",
       "⎢ ─────  ─────                   ─────  ───            ⎥\n",
       "⎢   2      2    ⅈ⋅φ    ⎛θ⎞         2     2   ⅈ⋅φ    ⎛θ⎞⎥\n",
       "⎢ℯ     ⋅ℯ     ⋅ℯ   ⋅cos⎜─⎟   -ⅈ⋅ℯ     ⋅ℯ   ⋅ℯ   ⋅sin⎜─⎟⎥\n",
       "⎢                      ⎝2⎠                          ⎝2⎠⎥\n",
       "⎢                                                      ⎥\n",
       "⎢    ⅈ⋅α  -ⅈ⋅β                  ⅈ⋅α  ⅈ⋅β               ⎥\n",
       "⎢    ───  ─────                 ───  ───               ⎥\n",
       "⎢     2     2    ⅈ⋅φ    ⎛θ⎞      2    2   ⅈ⋅φ    ⎛θ⎞   ⎥\n",
       "⎢-ⅈ⋅ℯ   ⋅ℯ     ⋅ℯ   ⋅sin⎜─⎟    ℯ   ⋅ℯ   ⋅ℯ   ⋅cos⎜─⎟   ⎥\n",
       "⎣                       ⎝2⎠                      ⎝2⎠   ⎦"
      ]
     },
     "execution_count": 4,
     "metadata": {},
     "output_type": "execute_result"
    }
   ],
   "source": [
    "out=p1*p2*p3*p4\n",
    "out"
   ]
  },
  {
   "cell_type": "code",
   "execution_count": 5,
   "id": "96271451",
   "metadata": {},
   "outputs": [
    {
     "data": {
      "image/png": "[encoded data removed]",
      "text/latex": [
       "$\\displaystyle \\left[\\begin{matrix}\\frac{\\sqrt{2}}{2} & \\frac{\\sqrt{2}}{2}\\\\\\frac{\\sqrt{2}}{2} & - \\frac{\\sqrt{2}}{2}\\end{matrix}\\right]$"
      ],
      "text/plain": [
       "⎡√2   √2 ⎤\n",
       "⎢──   ── ⎥\n",
       "⎢2    2  ⎥\n",
       "⎢        ⎥\n",
       "⎢√2  -√2 ⎥\n",
       "⎢──  ────⎥\n",
       "⎣2    2  ⎦"
      ]
     },
     "execution_count": 5,
     "metadata": {},
     "output_type": "execute_result"
    }
   ],
   "source": [
    "H=Matrix([[1/sqrt(2), 1/sqrt(2)],[1/sqrt(2), -1/sqrt(2)]])\n",
    "lhs=H\n",
    "lhs"
   ]
  },
  {
   "cell_type": "code",
   "execution_count": 6,
   "id": "9b8a79f0",
   "metadata": {},
   "outputs": [
    {
     "name": "stdout",
     "output_type": "stream",
     "text": [
      "Matrix([[sqrt(2)/2, -sqrt(2)*I/2], [-sqrt(2)*I/2, sqrt(2)/2]])\n",
      "It is false\n"
     ]
    }
   ],
   "source": [
    "#option A\n",
    "rhs=out.subs([(f, 0), (a, 0), (b, 0), (d, pi/2)])\n",
    "print (rhs)\n",
    "if (lhs==rhs):\n",
    "    print (\"It is true\")\n",
    "else:\n",
    "    print (\"It is false\")"
   ]
  },
  {
   "cell_type": "code",
   "execution_count": 7,
   "id": "2699342d",
   "metadata": {},
   "outputs": [
    {
     "name": "stdout",
     "output_type": "stream",
     "text": [
      "Matrix([[sqrt(2)/2, -sqrt(2)*I/2], [-sqrt(2)*I/2, sqrt(2)/2]])\n",
      "It is false\n"
     ]
    }
   ],
   "source": [
    "#option B\n",
    "lhs=out.subs([(f, pi/2), (a, pi/2), (b, pi/2), (d, pi/2)])\n",
    "print (rhs)\n",
    "if (lhs==rhs):\n",
    "    print (\"It is true\")\n",
    "else:\n",
    "    print (\"It is false\")"
   ]
  },
  {
   "cell_type": "code",
   "execution_count": 8,
   "id": "86ab6042",
   "metadata": {},
   "outputs": [
    {
     "name": "stdout",
     "output_type": "stream",
     "text": [
      "Matrix([[sqrt(2)/2, -sqrt(2)*I/2], [-sqrt(2)*I/2, sqrt(2)/2]])\n",
      "It is false\n"
     ]
    }
   ],
   "source": [
    "#option C\n",
    "lhs=out.subs([(f, 0), (a, pi/2), (b, pi/2), (d, pi/4)])\n",
    "print (rhs)\n",
    "if (lhs==rhs):\n",
    "    print (\"It is true\")\n",
    "else:\n",
    "    print (\"It is false\")"
   ]
  },
  {
   "cell_type": "code",
   "execution_count": 9,
   "id": "b50ac929",
   "metadata": {},
   "outputs": [
    {
     "name": "stdout",
     "output_type": "stream",
     "text": [
      "Matrix([[sqrt(2)/2, -sqrt(2)*I/2], [-sqrt(2)*I/2, sqrt(2)/2]])\n",
      "It is false\n"
     ]
    }
   ],
   "source": [
    "#option D\n",
    "lhs=out.subs([(f, pi/4), (a, pi/2), (b, pi/2), (d, pi/4)])\n",
    "print (rhs)\n",
    "if (lhs==rhs):\n",
    "    print (\"It is true\")\n",
    "else:\n",
    "    print (\"It is false\")"
   ]
  }
 ],
 "metadata": {
  "kernelspec": {
   "display_name": "Python 3",
   "language": "python",
   "name": "python3"
  },
  "language_info": {
   "codemirror_mode": {
    "name": "ipython",
    "version": 3
   },
   "file_extension": ".py",
   "mimetype": "text/x-python",
   "name": "python",
   "nbconvert_exporter": "python",
   "pygments_lexer": "ipython3",
   "version": "3.8.5"
  }
 },
 "nbformat": 4,
 "nbformat_minor": 5
}
